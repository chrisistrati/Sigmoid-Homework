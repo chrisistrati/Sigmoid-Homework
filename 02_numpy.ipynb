{
 "cells": [
  {
   "cell_type": "code",
   "execution_count": 1,
   "metadata": {},
   "outputs": [],
   "source": [
    "import numpy as np"
   ]
  },
  {
   "cell_type": "code",
   "execution_count": 4,
   "metadata": {},
   "outputs": [
    {
     "data": {
      "text/plain": [
       "0.05699175434306182"
      ]
     },
     "execution_count": 4,
     "metadata": {},
     "output_type": "execute_result"
    }
   ],
   "source": [
    "def normalDistribution(x:float, mu:float, sigma:float)->float:\n",
    "    probability=(1/(sigma*np.sqrt(2*np.pi)))*np.e**((-1/2)*((x-mu)/sigma))**2\n",
    "    return probability\n",
    "\n",
    "normalDistribution(75, 75, 7)"
   ]
  },
  {
   "cell_type": "code",
   "execution_count": 5,
   "metadata": {},
   "outputs": [
    {
     "data": {
      "text/plain": [
       "0.9998766054240137"
      ]
     },
     "execution_count": 5,
     "metadata": {},
     "output_type": "execute_result"
    }
   ],
   "source": [
    "def sigmoid(y: float)-> float:\n",
    "    sigma = 1/(1+np.e**-y)\n",
    "    return sigma\n",
    "sigmoid(9)"
   ]
  },
  {
   "cell_type": "code",
   "execution_count": 16,
   "metadata": {},
   "outputs": [
    {
     "data": {
      "text/plain": [
       "array([1, 2, 3, 4, 5])"
      ]
     },
     "execution_count": 16,
     "metadata": {},
     "output_type": "execute_result"
    }
   ],
   "source": [
    "#weights uptade in logistical regression\n",
    "def update_weight(w:np.array, x:np.array, y:np.array, alpha=0.0005) -> np.array:\n",
    "    '''\n",
    "    Description\n",
    "    Parametri\n",
    "    -------\n",
    "    w - wtjuyhthtw\n",
    "    x - 4yuyjyy\n",
    "    y - wryt\n",
    "    '''\n",
    "    n=len(x)\n",
    "    for i in range(n):\n",
    "        x_i=x[i]\n",
    "        y_i=y[i]\n",
    "        y_hat_i=sigmoid(np.dot(x_i, w))\n",
    "\n",
    "        for j in range(len(w)):\n",
    "            w[j]=w[j]-alpha*1/n*(y_hat_i-y_i)*x_i[j]\n",
    "    return w\n",
    "\n",
    "update_weight(np.array([1, 2, 3, 4,5]),np.array([[1, 2, 3, 4,5],[1, 2, 3, 4, 5]]),np.array([1, 2, 3, 4,5]))"
   ]
  },
  {
   "cell_type": "code",
   "execution_count": 12,
   "metadata": {},
   "outputs": [],
   "source": [
    "def mean_squared_error(target, prediction):\n",
    "    MSE=0\n",
    "    for i in range(len(target)):\n",
    "        MSE+=(prediction-target)\n",
    "    MSE*=1/len(target)\n",
    "    return MSE"
   ]
  },
  {
   "cell_type": "code",
   "execution_count": 13,
   "metadata": {},
   "outputs": [],
   "source": [
    "def binary_cross_entropy(y, y_hat):\n",
    "    sum=0\n",
    "    for i in range(len(y)):\n",
    "        sum+=y[i]*np.log(y_hat[i])+(1-y[i])*np.log(1-y_hat[i])\n",
    "    loss=sum/-len(y)\n",
    "    return loss"
   ]
  }
 ],
 "metadata": {
  "kernelspec": {
   "display_name": "Python 3",
   "language": "python",
   "name": "python3"
  },
  "language_info": {
   "codemirror_mode": {
    "name": "ipython",
    "version": 3
   },
   "file_extension": ".py",
   "mimetype": "text/x-python",
   "name": "python",
   "nbconvert_exporter": "python",
   "pygments_lexer": "ipython3",
   "version": "3.10.11"
  }
 },
 "nbformat": 4,
 "nbformat_minor": 2
}
